{
  "nbformat": 4,
  "nbformat_minor": 0,
  "metadata": {
    "colab": {
      "provenance": [],
      "authorship_tag": "ABX9TyPe5+t/QLhT4x3kpM99adbk",
      "include_colab_link": true
    },
    "kernelspec": {
      "name": "python3",
      "display_name": "Python 3"
    },
    "language_info": {
      "name": "python"
    }
  },
  "cells": [
    {
      "cell_type": "markdown",
      "metadata": {
        "id": "view-in-github",
        "colab_type": "text"
      },
      "source": [
        "<a href=\"https://colab.research.google.com/github/Keval-Trivedi299/CSRBOX_IBMSKILLBUILD/blob/main/Industry_Innovation_and_Infrastructure.ipynb\" target=\"_parent\"><img src=\"https://colab.research.google.com/assets/colab-badge.svg\" alt=\"Open In Colab\"/></a>"
      ]
    },
    {
      "cell_type": "markdown",
      "source": [
        "# STEP 0: Install dependencies"
      ],
      "metadata": {
        "id": "K3yWWtQ8cC4i"
      }
    },
    {
      "cell_type": "code",
      "source": [
        "!pip install -qU \\\n",
        "  google-generativeai==0.8.5 \\\n",
        "  google-ai-generativelanguage==0.6.15 \\\n",
        "  langgraph \\\n",
        "  langchain \\\n",
        "  langchain-google-genai \\\n",
        "  openai"
      ],
      "metadata": {
        "colab": {
          "base_uri": "https://localhost:8080/"
        },
        "id": "HfF5u-_Te1Wi",
        "outputId": "75fc18e6-7bf3-4c81-ef25-b1ea6356ac51"
      },
      "execution_count": 1,
      "outputs": [
        {
          "output_type": "stream",
          "name": "stdout",
          "text": [
            "\u001b[2K     \u001b[90m━━━━━━━━━━━━━━━━━━━━━━━━━━━━━━━━━━━━━━━━\u001b[0m \u001b[32m43.7/43.7 kB\u001b[0m \u001b[31m1.7 MB/s\u001b[0m eta \u001b[36m0:00:00\u001b[0m\n",
            "\u001b[2K   \u001b[90m━━━━━━━━━━━━━━━━━━━━━━━━━━━━━━━━━━━━━━━━\u001b[0m \u001b[32m143.8/143.8 kB\u001b[0m \u001b[31m5.9 MB/s\u001b[0m eta \u001b[36m0:00:00\u001b[0m\n",
            "\u001b[2K   \u001b[90m━━━━━━━━━━━━━━━━━━━━━━━━━━━━━━━━━━━━━━━━\u001b[0m \u001b[32m42.0/42.0 kB\u001b[0m \u001b[31m2.8 MB/s\u001b[0m eta \u001b[36m0:00:00\u001b[0m\n",
            "\u001b[2K   \u001b[90m━━━━━━━━━━━━━━━━━━━━━━━━━━━━━━━━━━━━━━━━\u001b[0m \u001b[32m765.0/765.0 kB\u001b[0m \u001b[31m19.5 MB/s\u001b[0m eta \u001b[36m0:00:00\u001b[0m\n",
            "\u001b[2K   \u001b[90m━━━━━━━━━━━━━━━━━━━━━━━━━━━━━━━━━━━━━━━━\u001b[0m \u001b[32m43.8/43.8 kB\u001b[0m \u001b[31m2.7 MB/s\u001b[0m eta \u001b[36m0:00:00\u001b[0m\n",
            "\u001b[2K   \u001b[90m━━━━━━━━━━━━━━━━━━━━━━━━━━━━━━━━━━━━━━━━\u001b[0m \u001b[32m50.2/50.2 kB\u001b[0m \u001b[31m3.3 MB/s\u001b[0m eta \u001b[36m0:00:00\u001b[0m\n",
            "\u001b[2K   \u001b[90m━━━━━━━━━━━━━━━━━━━━━━━━━━━━━━━━━━━━━━━━\u001b[0m \u001b[32m216.5/216.5 kB\u001b[0m \u001b[31m15.0 MB/s\u001b[0m eta \u001b[36m0:00:00\u001b[0m\n",
            "\u001b[?25h"
          ]
        }
      ]
    },
    {
      "cell_type": "markdown",
      "source": [
        "# STEP 1: Imports and secure API key input"
      ],
      "metadata": {
        "id": "XvoFPl11cFhj"
      }
    },
    {
      "cell_type": "code",
      "source": [
        "import os\n",
        "import getpass\n",
        "from langgraph.graph import StateGraph, END\n",
        "from langchain_google_genai import ChatGoogleGenerativeAI\n",
        "from langchain_core.messages import HumanMessage"
      ],
      "metadata": {
        "id": "yVzvN7ZQfGy6"
      },
      "execution_count": 2,
      "outputs": []
    },
    {
      "cell_type": "markdown",
      "source": [
        "\n",
        "# B. Secure Gemini API Key input"
      ],
      "metadata": {
        "id": "W28u20SxcIiH"
      }
    },
    {
      "cell_type": "code",
      "source": [
        "os.environ[\"GOOGLE_API_KEY\"] = getpass.getpass(\"Enter your gemini key\")"
      ],
      "metadata": {
        "colab": {
          "base_uri": "https://localhost:8080/"
        },
        "id": "KjwWoHObfW9Q",
        "outputId": "57068273-a7ec-438a-b466-1ff66a6b68a6"
      },
      "execution_count": 3,
      "outputs": [
        {
          "name": "stdout",
          "output_type": "stream",
          "text": [
            "Enter your gemini key··········\n"
          ]
        }
      ]
    },
    {
      "cell_type": "markdown",
      "source": [
        "# STEP 2: Initialize Gemini 1.5 Flash"
      ],
      "metadata": {
        "id": "eusINPuVcLXp"
      }
    },
    {
      "cell_type": "code",
      "source": [
        "llm = ChatGoogleGenerativeAI(model=\"models/gemini-1.5-flash-latest\", temperature=0.2)"
      ],
      "metadata": {
        "id": "rAV38gSofyss"
      },
      "execution_count": 4,
      "outputs": []
    },
    {
      "cell_type": "markdown",
      "source": [
        "# STEP 3: Node to ask user for symptom"
      ],
      "metadata": {
        "id": "o07zbkLWcOVW"
      }
    },
    {
      "cell_type": "code",
      "source": [
        "def get_problem(state: dict) -> dict:\n",
        "  problem = input(\"This is an Expert AI guide for your problem , Please enter the situation to be solved\")\n",
        "  state[\"problem\"] = problem\n",
        "  return state"
      ],
      "metadata": {
        "id": "-0bGfsMYf7Ta"
      },
      "execution_count": 5,
      "outputs": []
    },
    {
      "cell_type": "markdown",
      "source": [
        "# STEP 4: Node to classify the symptom"
      ],
      "metadata": {
        "id": "0KIzyYPVcRVm"
      }
    },
    {
      "cell_type": "code",
      "source": [
        "def classify_problem(state : dict ) -> dict:\n",
        "  prompt = (\n",
        "      \"You are a helpful Infrastructure Guardian assistant. Classify the user's concern below into one of the categories:\\n\"\n",
        "        \"- Awareness\\n- Action\\n- Emergency\\n\\n\"\n",
        "        f\"Problem: {state['problem']}\\n\"\n",
        "        \"Respond with only one word: Awareness, Action, or Emergency.\\n\"\n",
        "        \"#Example: input: Our rural roads are in terrible condition and block access to markets. → output: Action\"\n",
        "  )\n",
        "  response = llm.invoke([HumanMessage(content=prompt)])\n",
        "  category = response.content.strip()\n",
        "  print(f\"LLM Classifies the problem as : {category}\") #debug\n",
        "  state[\"category\"]=category"
      ],
      "metadata": {
        "id": "2ig_bb0dgakQ"
      },
      "execution_count": 6,
      "outputs": []
    },
    {
      "cell_type": "markdown",
      "source": [
        "# STEP 5: Router logic to route to the correct node\n"
      ],
      "metadata": {
        "id": "kESmxbnicWpS"
      }
    },
    {
      "cell_type": "code",
      "source": [
        "def problem_router(state: dict) -> str:\n",
        "    cat = state[\"category\"].lower()\n",
        "    if \"awareness\" in cat:\n",
        "        return \"awareness\"\n",
        "    elif \"emergency\" in cat:\n",
        "        return \"emergency\"\n",
        "    elif \"action\" in cat:\n",
        "        return \"action\"\n",
        "    else:\n",
        "        return \"awareness\"\n"
      ],
      "metadata": {
        "id": "N1jh-Zn2g4mp"
      },
      "execution_count": 7,
      "outputs": []
    },
    {
      "cell_type": "markdown",
      "source": [
        "# STEP 6: Category-specific response nodes\n"
      ],
      "metadata": {
        "id": "cZuR4VGscake"
      }
    },
    {
      "cell_type": "code",
      "source": [
        "def awareness_node(state: dict) -> dict:\n",
        "    prompt = (\n",
        "        f\"You are a tech and infrastructure educator.\\n\"\n",
        "        f\"User's issue: {state['problem']}\\n\"\n",
        "        \"Give a detailed but clear explanation to raise awareness about this problem related to SDG 9.\"\n",
        "    )\n",
        "    response = llm.invoke([HumanMessage(content=prompt)])\n",
        "    state[\"answer\"] = response.content.strip()\n",
        "    return state\n",
        "\n",
        "def emergency_node(state: dict) -> dict:\n",
        "    prompt = (\n",
        "        f\"You are a critical infrastructure response advisor.\\n\"\n",
        "        f\"Situation: {state['problem']}\\n\"\n",
        "        \"Provide urgent guidance or steps needed to resolve the infrastructure-related emergency quickly and safely.\"\n",
        "    )\n",
        "    response = llm.invoke([HumanMessage(content=prompt)])\n",
        "    state[\"answer\"] = response.content.strip()\n",
        "    return state\n",
        "\n",
        "def action_node(state: dict) -> dict:\n",
        "    prompt = (\n",
        "        f\"You are an SDG 9 expert focused on real-world solutions.\\n\"\n",
        "        f\"User's concern: {state['problem']}\\n\"\n",
        "        \"Suggest specific, actionable steps the user can take to address this industry, innovation, or infrastructure issue.\"\n",
        "    )\n",
        "    response = llm.invoke([HumanMessage(content=prompt)])\n",
        "    state[\"answer\"] = response.content.strip()\n",
        "    return state\n"
      ],
      "metadata": {
        "id": "L1RwG65UkoOR"
      },
      "execution_count": 8,
      "outputs": []
    },
    {
      "cell_type": "markdown",
      "source": [
        "# STEP 7: Build LangGraph\n"
      ],
      "metadata": {
        "id": "I1ek0SwzcehS"
      }
    },
    {
      "cell_type": "code",
      "source": [
        "builder = StateGraph(dict)\n",
        "\n",
        "builder.set_entry_point(\"get_problem\")\n",
        "\n",
        "builder.add_node(\"get_problem\", get_problem)\n",
        "builder.add_node(\"classify\", classify_problem)\n",
        "builder.add_node(\"awareness\", awareness_node)\n",
        "builder.add_node(\"emergency\", emergency_node)\n",
        "builder.add_node(\"action\", action_node)\n",
        "\n",
        "builder.add_edge(\"get_problem\", \"classify\")\n",
        "\n",
        "builder.add_conditional_edges(\"classify\", problem_router, {\n",
        "    \"awareness\": \"awareness\",\n",
        "    \"emergency\": \"emergency\",\n",
        "    \"action\": \"action\"\n",
        "})\n",
        "\n",
        "builder.add_edge(\"awareness\", END)\n",
        "builder.add_edge(\"emergency\", END)\n",
        "builder.add_edge(\"action\", END)\n"
      ],
      "metadata": {
        "colab": {
          "base_uri": "https://localhost:8080/"
        },
        "id": "0pYwxElDlEub",
        "outputId": "40eb19af-03c9-421c-bb49-290f7d1c07d4"
      },
      "execution_count": 9,
      "outputs": [
        {
          "output_type": "execute_result",
          "data": {
            "text/plain": [
              "<langgraph.graph.state.StateGraph at 0x7991156be250>"
            ]
          },
          "metadata": {},
          "execution_count": 9
        }
      ]
    },
    {
      "cell_type": "markdown",
      "source": [
        "# STEP 8: Compile and invoke the graph\n"
      ],
      "metadata": {
        "id": "GbAgCeZYci5k"
      }
    },
    {
      "cell_type": "code",
      "source": [
        "graph = builder.compile()\n",
        "final_state = graph.invoke({})\n",
        "print(\"Final Output:\")\n",
        "print(final_state[\"answer\"])"
      ],
      "metadata": {
        "colab": {
          "base_uri": "https://localhost:8080/"
        },
        "id": "Y3mRen31lMqB",
        "outputId": "1767fdc4-5ae7-4604-8213-4cb3ca2c2667"
      },
      "execution_count": 14,
      "outputs": [
        {
          "output_type": "stream",
          "name": "stdout",
          "text": [
            "This is an Expert AI guide for your problem , Please enter the situation to be solvedtraffic lights is not on\n",
            "LLM Classifies the problem as : Emergency\n",
            "Final Output:\n",
            "## Urgent Guidance: Traffic Signal Outage\n",
            "\n",
            "**Priority 1: Immediate Safety Measures (First Responders & On-Scene Personnel)**\n",
            "\n",
            "1. **Isolate the Area:**  Immediately dispatch law enforcement to the affected intersection(s).  Their priority is to establish a safe perimeter and direct traffic manually.  Use caution tape, flares, and/or emergency vehicles to delineate the affected area and warn approaching drivers.  This is paramount to prevent accidents.\n",
            "\n",
            "2. **Assess the Situation:**  Determine the extent of the outage.  Is it a single intersection, a wider area, or a localized power failure?  Identify any visible damage to the traffic signals or power lines.  Report any downed power lines immediately to the appropriate utility company – **DO NOT APPROACH DOWNED POWER LINES.**\n",
            "\n",
            "3. **Activate Emergency Response Plan:**  Contact the relevant municipal department responsible for traffic signals (e.g., Department of Transportation, Public Works).  Follow established emergency response protocols.  This may involve activating backup generators (if available) or deploying temporary traffic control measures.\n",
            "\n",
            "4. **Communication is Key:**  Alert the public via social media, local news outlets, and variable message signs (if available) about the outage and any detours.  Provide clear and concise information about the affected area and recommended routes.\n",
            "\n",
            "**Priority 2:  Restoration & Investigation (Specialized Teams)**\n",
            "\n",
            "1. **Power Assessment:**  Determine the cause of the outage. Is it a power failure, equipment malfunction, vandalism, or an accident?  Utility companies need to assess power supply to the traffic signals.\n",
            "\n",
            "2. **Signal System Diagnosis:**  Specialized technicians need to diagnose the problem with the traffic signal system itself. This may involve checking for blown fuses, faulty controllers, or damaged wiring.\n",
            "\n",
            "3. **Temporary Repairs:**  If possible, implement temporary repairs to restore functionality, even if it's a basic four-way stop configuration.  This might involve deploying temporary traffic control devices.\n",
            "\n",
            "4. **Permanent Repairs:**  Once the cause is identified, initiate permanent repairs to restore the traffic signals to full operational capacity.  This may involve replacing damaged components or upgrading the system.\n",
            "\n",
            "**Priority 3: Post-Incident Review**\n",
            "\n",
            "1. **Incident Report:**  Document the entire incident, including the cause, duration, impact, and response actions.  This is crucial for future planning and preventing similar incidents.\n",
            "\n",
            "2. **System Review:**  Assess the resilience of the traffic signal system.  Identify any weaknesses or vulnerabilities that contributed to the outage.  Consider implementing preventative maintenance schedules and redundancy measures.\n",
            "\n",
            "3. **Lessons Learned:**  Conduct a thorough review of the response to identify areas for improvement in communication, coordination, and resource allocation.\n",
            "\n",
            "\n",
            "**Critical Considerations:**\n",
            "\n",
            "* **Safety:**  Prioritize the safety of first responders, the public, and repair personnel.\n",
            "* **Communication:**  Maintain clear and consistent communication throughout the entire process.\n",
            "* **Coordination:**  Ensure effective coordination between all involved agencies and personnel.\n",
            "* **Documentation:**  Meticulously document all actions taken.\n",
            "\n",
            "\n",
            "This guidance is a general framework.  Specific actions will depend on the unique circumstances of the outage.  Always follow established local emergency response protocols.\n"
          ]
        }
      ]
    }
  ]
}